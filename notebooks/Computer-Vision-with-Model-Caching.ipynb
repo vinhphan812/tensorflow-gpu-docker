{
 "cells": [
  {
   "cell_type": "markdown",
   "id": "1716695e",
   "metadata": {},
   "source": [
    "# Computer Vision with Model Caching"
   ]
  },
  {
   "cell_type": "markdown",
   "id": "939d8488",
   "metadata": {},
   "source": [
    "<table align=\"left\">\n",
    "    <td>\n",
    "        <a href=\"https://colab.research.google.com/github/dreoporto/ptmlib/blob/main/ptmlib/notebooks/Computer-Vision-with-Model-Caching.ipynb\" target=\"_blank\">\n",
    "            <img src=\"https://colab.research.google.com/assets/colab-badge.svg\" alt=\"Open In Colab\"/>\n",
    "        </a>\n",
    "    </td>\n",
    "</table>    "
   ]
  },
  {
   "cell_type": "markdown",
   "id": "7a0a00ae",
   "metadata": {},
   "source": [
    "This notebook demonstrates using the PTMLib `model_tools.load_or_fit_model()` function to train and save a Computer Vision model.\n",
    "\n",
    "You can learn more about PTMLib (Pendragon Tools for Machine Learning) at https://github.com/dreoporto/ptmlib\n",
    "\n",
    "This example was originally derived from the \"DeepLearning.AI TensorFlow Developer\" course notebook at https://github.com/lmoroney/dlaicourse/blob/master/Course%201%20-%20Part%204%20-%20Lesson%202%20-%20Notebook.ipynb\n",
    "\n",
    "It has been enhanced to include:\n",
    "\n",
    "- examples of PTMLib usage\n",
    "- a dropout layer\n",
    "- `validation_split` usage\n",
    "- early stopping using a callback function"
   ]
  },
  {
   "cell_type": "markdown",
   "id": "66622222",
   "metadata": {},
   "source": [
    "## Setup"
   ]
  },
  {
   "cell_type": "markdown",
   "id": "85fc698d",
   "metadata": {},
   "source": [
    "### Import common libraries"
   ]
  },
  {
   "cell_type": "code",
   "execution_count": null,
   "id": "25f8b79a",
   "metadata": {},
   "outputs": [],
   "source": [
    "import matplotlib.pyplot as plt\n",
    "import numpy as np\n",
    "import tensorflow as tf\n",
    "from tensorflow import keras\n",
    "from tensorflow.keras import layers"
   ]
  },
  {
   "cell_type": "markdown",
   "id": "c744aa6e",
   "metadata": {},
   "source": [
    "### Import PTMLib"
   ]
  },
  {
   "cell_type": "code",
   "execution_count": null,
   "id": "3bb3a277",
   "metadata": {},
   "outputs": [],
   "source": [
    "# UNCOMMENT pip install BELOW IF PTMLib IS NOT INSTALLED\n",
    "!pip install --no-index -f https://github.com/dreoporto/ptmlib/releases ptmlib\n",
    "\n",
    "from ptmlib.time import Stopwatch, AlertSounds\n",
    "import ptmlib.model_tools as modt"
   ]
  },
  {
   "cell_type": "markdown",
   "id": "95d1f15f",
   "metadata": {},
   "source": [
    "### Check Setup"
   ]
  },
  {
   "cell_type": "code",
   "execution_count": null,
   "id": "2b7ad3f4",
   "metadata": {},
   "outputs": [],
   "source": [
    "print('TF VERSION:', tf.__version__)"
   ]
  },
  {
   "cell_type": "markdown",
   "id": "3a1b2803",
   "metadata": {},
   "source": [
    "## Setup PTMLib Timers\n",
    "\n",
    "Use `Stopwatch` to alert you when work completes, including the entire notebook."
   ]
  },
  {
   "cell_type": "code",
   "execution_count": null,
   "id": "637d0c7d",
   "metadata": {},
   "outputs": [],
   "source": [
    "main_stopwatch = Stopwatch()\n",
    "main_stopwatch.start()"
   ]
  },
  {
   "cell_type": "markdown",
   "id": "fe4e221e",
   "metadata": {},
   "source": [
    "## Get MNIST Data"
   ]
  },
  {
   "cell_type": "code",
   "execution_count": null,
   "id": "014a3ddf",
   "metadata": {},
   "outputs": [],
   "source": [
    "mnist = keras.datasets.fashion_mnist\n",
    "(training_images, training_labels), (test_images, test_labels) = mnist.load_data()"
   ]
  },
  {
   "cell_type": "markdown",
   "id": "da8c6e04",
   "metadata": {},
   "source": [
    "### Check some sample data to verify"
   ]
  },
  {
   "cell_type": "code",
   "execution_count": null,
   "id": "3454ecc8",
   "metadata": {},
   "outputs": [],
   "source": [
    "np.set_printoptions(linewidth=200)\n",
    "plt.imshow(training_images[0])\n",
    "plt.show()"
   ]
  },
  {
   "cell_type": "code",
   "execution_count": null,
   "id": "f3c299c3",
   "metadata": {},
   "outputs": [],
   "source": [
    "print(training_labels[0])"
   ]
  },
  {
   "cell_type": "markdown",
   "id": "9b541fe0",
   "metadata": {},
   "source": [
    "### Normalize the image data\n",
    "\n",
    "Normalize image data to values between 0 and 1"
   ]
  },
  {
   "cell_type": "code",
   "execution_count": null,
   "id": "2c0777fe",
   "metadata": {},
   "outputs": [],
   "source": [
    "training_images = training_images / 255.0\n",
    "test_images = test_images / 255.0"
   ]
  },
  {
   "cell_type": "markdown",
   "id": "910b692e",
   "metadata": {},
   "source": [
    "## Create the Keras model"
   ]
  },
  {
   "cell_type": "markdown",
   "id": "0c72435b",
   "metadata": {},
   "source": [
    "### Setup Hyperparameters 1"
   ]
  },
  {
   "cell_type": "code",
   "execution_count": null,
   "id": "5aa6c3cb",
   "metadata": {},
   "outputs": [],
   "source": [
    "hp_dropout = 0.2"
   ]
  },
  {
   "cell_type": "markdown",
   "id": "54b1c5a1",
   "metadata": {},
   "source": [
    "### Create a Sequential model using Keras"
   ]
  },
  {
   "cell_type": "code",
   "execution_count": null,
   "id": "f11b5aa1",
   "metadata": {},
   "outputs": [],
   "source": [
    "# I <3 Keras\n",
    "\n",
    "model = keras.models.Sequential([\n",
    "    layers.Flatten(input_shape=(28, 28)),\n",
    "    layers.Dropout(hp_dropout),\n",
    "    layers.Dense(512, activation=tf.nn.relu),\n",
    "    layers.Dense(10, activation=tf.nn.softmax)\n",
    "])"
   ]
  },
  {
   "cell_type": "code",
   "execution_count": null,
   "id": "cacabd55",
   "metadata": {},
   "outputs": [],
   "source": [
    "model.compile(\n",
    "    optimizer=tf.optimizers.Adam(),\n",
    "    loss=\"sparse_categorical_crossentropy\",\n",
    "    metrics=[\"accuracy\"]\n",
    ")"
   ]
  },
  {
   "cell_type": "code",
   "execution_count": null,
   "id": "3e4762ac",
   "metadata": {},
   "outputs": [],
   "source": [
    "model.summary()"
   ]
  },
  {
   "cell_type": "markdown",
   "id": "c5000242",
   "metadata": {},
   "source": [
    "## Create an Early Callback function\n",
    "\n",
    "Avoid excessive training by setting an accuracy target"
   ]
  },
  {
   "cell_type": "code",
   "execution_count": null,
   "id": "ee85c9fc",
   "metadata": {},
   "outputs": [],
   "source": [
    "class MyCallback(keras.callbacks.Callback):\n",
    "\n",
    "    def __init__(self, target):\n",
    "        super().__init__()\n",
    "        self.target = target\n",
    "\n",
    "    def on_epoch_end(self, _, logs=None):\n",
    "\n",
    "        if logs is None:\n",
    "            logs = {}\n",
    "        if logs.get(\"accuracy\") > self.target:\n",
    "            print(f\"\\nReached {self.target * 100}% accuracy so cancelling training!\")\n",
    "            self.model.stop_training = True"
   ]
  },
  {
   "cell_type": "markdown",
   "id": "697ea662",
   "metadata": {},
   "source": [
    "## Train your model, with caching"
   ]
  },
  {
   "cell_type": "markdown",
   "id": "50f4e8e9",
   "metadata": {},
   "source": [
    "### Setup Hyperparameters 2"
   ]
  },
  {
   "cell_type": "code",
   "execution_count": null,
   "id": "d12a1ed6",
   "metadata": {},
   "outputs": [],
   "source": [
    "hp_epochs = 50\n",
    "hp_target = 0.91\n",
    "hp_validation_split = 0.2"
   ]
  },
  {
   "cell_type": "markdown",
   "id": "a3ab9962",
   "metadata": {},
   "source": [
    "### Create a `fit` lambda function\n",
    "\n",
    "Create a lambda function that will be called to fit your model"
   ]
  },
  {
   "cell_type": "code",
   "execution_count": null,
   "id": "663ca5a5",
   "metadata": {},
   "outputs": [],
   "source": [
    "fit_model_function_with_callback = lambda my_model, x, y, validation_data, epochs: my_model.fit(\n",
    "        x, y, validation_data, epochs=epochs, callbacks=[early_callback], validation_split=hp_validation_split)"
   ]
  },
  {
   "cell_type": "markdown",
   "id": "3f9843d1",
   "metadata": {},
   "source": [
    "### Train your model\n",
    "\n",
    "If you run this notebook a second time, it will load the model and charts from the saved files.  No need to worry about shutting down Jupyter, or rebooting your machine (i.e. patches) !"
   ]
  },
  {
   "cell_type": "code",
   "execution_count": null,
   "id": "039ba439",
   "metadata": {},
   "outputs": [],
   "source": [
    "model_file_name = \"computer_vision_1\"\n",
    "early_callback = MyCallback(target=hp_target)\n",
    "\n",
    "model, history = modt.load_or_fit_model(model, model_file_name, x=training_images, y=training_labels, \n",
    "                                        epochs=hp_epochs, fit_model_function=fit_model_function_with_callback,\n",
    "                                        metrics=[\"accuracy\"])"
   ]
  },
  {
   "cell_type": "markdown",
   "id": "b67fe7a8",
   "metadata": {},
   "source": [
    "## Evaluate your model"
   ]
  },
  {
   "cell_type": "code",
   "execution_count": null,
   "id": "07cfdb7f",
   "metadata": {},
   "outputs": [],
   "source": [
    "model.evaluate(test_images, test_labels)"
   ]
  },
  {
   "cell_type": "code",
   "execution_count": null,
   "id": "2e737f3e",
   "metadata": {},
   "outputs": [],
   "source": [
    "classifications = model.predict(test_images)"
   ]
  },
  {
   "cell_type": "code",
   "execution_count": null,
   "id": "fc679d33",
   "metadata": {},
   "outputs": [],
   "source": [
    "print(classifications[0])\n",
    "print(test_labels[0])\n",
    "print(max(classifications[0]))"
   ]
  },
  {
   "cell_type": "markdown",
   "id": "ea68f79f",
   "metadata": {},
   "source": [
    "## Using the Cached Model and History\n",
    "\n",
    "We will now run this function again to show what happens if you restart this notebook (ex: using *Kernel > Restart & Run All* in Jupyter)"
   ]
  },
  {
   "cell_type": "code",
   "execution_count": null,
   "id": "0384e826",
   "metadata": {},
   "outputs": [],
   "source": [
    "model, history = modt.load_or_fit_model(model, model_file_name, x=training_images, y=training_labels, \n",
    "                                        epochs=hp_epochs, fit_model_function=fit_model_function_with_callback,\n",
    "                                        metrics=[\"accuracy\"])"
   ]
  },
  {
   "cell_type": "markdown",
   "id": "eb713197",
   "metadata": {},
   "source": [
    "Since history data is also cached, we can create additional plots for further analysis."
   ]
  },
  {
   "cell_type": "code",
   "execution_count": null,
   "id": "50b71510",
   "metadata": {},
   "outputs": [],
   "source": [
    "# let's combine both charts\n",
    "\n",
    "plt.plot(history.history[\"accuracy\"])\n",
    "plt.plot(history.history[\"val_accuracy\"])\n",
    "plt.plot(history.history[\"loss\"])\n",
    "plt.plot(history.history[\"val_loss\"])\n",
    "plt.xlabel(\"Epochs\")\n",
    "plt.ylabel(\"Accuracy/Loss\")\n",
    "plt.title(\"Train and Validation Losses Over Epochs\", fontsize=14)\n",
    "plt.legend([\"train_acc\", \"val_acc\", \"loss\", \"val_loss\"])\n",
    "plt.grid()\n",
    "plt.show()"
   ]
  },
  {
   "cell_type": "markdown",
   "id": "274b569f",
   "metadata": {},
   "source": [
    "## Removing Cached Files"
   ]
  },
  {
   "cell_type": "markdown",
   "id": "d65a2b77",
   "metadata": {},
   "source": [
    "To run `load_or_fit_model` from scratch, without using the saved model and images, simply delete the following files, each of which contains *computer_vision_1* in the file name.  This was set using the `model_file_name` variable.\n",
    "\n",
    "- computer_vision_1.h5\n",
    "- accuracy-computer_vision_1.png\n",
    "- loss-computer_vision_1.png\n",
    "- computer_vision_1_history.pkl\n",
    "\n",
    "This is especially important if you are still adjusting your model layers or hyperparameters for model optimization.\n",
    "\n",
    "You can also change the value of the `model_file_name` variable if you wish to save the results from multiple runs.  This is useful when comparing performance graphs."
   ]
  },
  {
   "cell_type": "code",
   "execution_count": null,
   "id": "d22dae59",
   "metadata": {
    "tags": []
   },
   "outputs": [],
   "source": [
    "# ALL DONE!\n",
    "\n",
    "main_stopwatch.stop(sound_path=AlertSounds.DORE)"
   ]
  }
 ],
 "metadata": {
  "kernelspec": {
   "display_name": "Python 3 (ipykernel)",
   "language": "python",
   "name": "python3"
  },
  "language_info": {
   "codemirror_mode": {
    "name": "ipython",
    "version": 3
   },
   "file_extension": ".py",
   "mimetype": "text/x-python",
   "name": "python",
   "nbconvert_exporter": "python",
   "pygments_lexer": "ipython3",
   "version": "3.11.0rc1"
  }
 },
 "nbformat": 4,
 "nbformat_minor": 5
}
